{
  "nbformat": 4,
  "nbformat_minor": 0,
  "metadata": {
    "colab": {
      "name": "k-means.ipynb",
      "provenance": [],
      "collapsed_sections": []
    },
    "kernelspec": {
      "name": "python3",
      "display_name": "Python 3"
    },
    "language_info": {
      "name": "python"
    }
  },
  "cells": [
    {
      "cell_type": "markdown",
      "metadata": {
        "id": "tK0QKbA7D-09"
      },
      "source": [
        "# Python code for K-Means Clustering \n",
        "---\n",
        "\n",
        "## Author : Amir Atapour-Abarghouei, amir.atapour-abarghouei@newcastle.ac.uk\n",
        "\n",
        "This notebook will provide a simple example for the k-means algorithm applied to 2-dimensional data.\n",
        "\n",
        "Copyright (c) 2021 School of Computing, Newcastle University, UK.\n",
        "\n",
        "License : LGPL - http://www.gnu.org/licenses/lgpl.html"
      ]
    },
    {
      "cell_type": "markdown",
      "metadata": {
        "id": "AaxVL1rrIrBa"
      },
      "source": [
        "This will be a very simple demonstration of the k-means clustering algorithm.\n",
        "\n",
        "First, we will import all the necessary packages."
      ]
    },
    {
      "cell_type": "code",
      "metadata": {
        "id": "aqkN5YRI8loP"
      },
      "source": [
        "# sklearn for the k-means algorithm:\n",
        "import sklearn\n",
        "from sklearn.cluster import KMeans\n",
        "print(f\"sklearn version: {sklearn.__version__}\")\n",
        "\n",
        "# dataset generator from sklearn:\n",
        "from sklearn.datasets.samples_generator import make_blobs\n",
        "\n",
        "# matplotlib and seaborn for plotting:\n",
        "%matplotlib inline\n",
        "import matplotlib.pyplot as plt\n",
        "import seaborn as sns\n",
        "sns.set()\n",
        "\n",
        "# no more warnings:\n",
        "import warnings\n",
        "warnings.filterwarnings(\"ignore\")"
      ],
      "execution_count": null,
      "outputs": []
    },
    {
      "cell_type": "markdown",
      "metadata": {
        "id": "F0LzaS7oMCrE"
      },
      "source": [
        "Now, we set a few parameters:"
      ]
    },
    {
      "cell_type": "code",
      "metadata": {
        "id": "zRbxYZgDMG4m"
      },
      "source": [
        "# parameters for generating data points:\n",
        "num_data_points = 300\n",
        "num_clusters = 3\n",
        "cluster_std = 2\n",
        "seed = 1234\n",
        "\n",
        "print('Done!')"
      ],
      "execution_count": null,
      "outputs": []
    },
    {
      "cell_type": "markdown",
      "metadata": {
        "id": "s8BZ_9wfNy4g"
      },
      "source": [
        "We can now generate our data for clustering:"
      ]
    },
    {
      "cell_type": "code",
      "metadata": {
        "id": "lp5SgDC_-HQV"
      },
      "source": [
        "# generate two dimensional data points in clusters:\n",
        "# x: two dimensions of the points\n",
        "# y: ground truth cluster label\n",
        "x, gt_y = make_blobs(n_samples=num_data_points, centers=num_clusters, cluster_std=cluster_std, random_state=seed)\n",
        "\n",
        "# plot the generated data points:\n",
        "plt.scatter(x[:, 0], x[:, 1], s=25);"
      ],
      "execution_count": null,
      "outputs": []
    },
    {
      "cell_type": "code",
      "metadata": {
        "id": "EmO66M_g-5ML"
      },
      "source": [
        "# k-means: \n",
        "kmeans = KMeans(n_clusters=num_clusters)\n",
        "kmeans.fit(x)\n",
        "\n",
        "# clusters predicted via k-means:\n",
        "pred_y = kmeans.predict(x)\n",
        "\n",
        "print('Done!')"
      ],
      "execution_count": null,
      "outputs": []
    },
    {
      "cell_type": "markdown",
      "metadata": {
        "id": "UHgLzJUYQQFK"
      },
      "source": [
        "Our data is now clustered using the K-Means algorithm. Now, let's plot them."
      ]
    },
    {
      "cell_type": "code",
      "metadata": {
        "id": "0WdXsvyV-_3Z"
      },
      "source": [
        "# plot the points with predicted cluster labels:\n",
        "plt.scatter(x[:, 0], x[:, 1], c=pred_y, s=25, cmap='viridis')\n",
        "\n",
        "# plot the cluster centroids:\n",
        "centers = kmeans.cluster_centers_\n",
        "plt.scatter(centers[:, 0], centers[:, 1], c='blue', marker=\"X\", s=200, alpha=1);"
      ],
      "execution_count": null,
      "outputs": []
    }
  ]
}